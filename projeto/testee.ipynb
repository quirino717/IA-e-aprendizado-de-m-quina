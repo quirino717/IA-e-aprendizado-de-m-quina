{
 "cells": [
  {
   "cell_type": "code",
   "id": "initial_id",
   "metadata": {
    "collapsed": true,
    "ExecuteTime": {
     "end_time": "2024-11-11T01:37:46.602775Z",
     "start_time": "2024-11-11T01:37:46.425211Z"
    }
   },
   "source": [
    "from sklearn.cluster import KMeans\n",
    "from sklearn.decomposition import PCA\n",
    "from sklearn.preprocessing import StandardScaler, LabelEncoder\n",
    "import matplotlib.pyplot as plt\n",
    "import pandas as pd\n",
    "import numpy as np\n",
    "import plotly.express as px\n",
    "import seaborn as sns\n",
    "import pandas as pd\n",
    "\n",
    "pokedex = pd.read_csv('pokemon.csv')\n",
    "pokedex"
   ],
   "outputs": [
    {
     "data": {
      "text/plain": [
       "                       abilities  against_bug  against_dark  against_dragon  \\\n",
       "0    ['Overgrow', 'Chlorophyll']         1.00           1.0             1.0   \n",
       "1    ['Overgrow', 'Chlorophyll']         1.00           1.0             1.0   \n",
       "2    ['Overgrow', 'Chlorophyll']         1.00           1.0             1.0   \n",
       "3       ['Blaze', 'Solar Power']         0.50           1.0             1.0   \n",
       "4       ['Blaze', 'Solar Power']         0.50           1.0             1.0   \n",
       "..                           ...          ...           ...             ...   \n",
       "796              ['Beast Boost']         0.25           1.0             0.5   \n",
       "797              ['Beast Boost']         1.00           1.0             0.5   \n",
       "798              ['Beast Boost']         2.00           0.5             2.0   \n",
       "799              ['Prism Armor']         2.00           2.0             1.0   \n",
       "800               ['Soul-Heart']         0.25           0.5             0.0   \n",
       "\n",
       "     against_electric  against_fairy  against_fight  against_fire  \\\n",
       "0                 0.5            0.5            0.5           2.0   \n",
       "1                 0.5            0.5            0.5           2.0   \n",
       "2                 0.5            0.5            0.5           2.0   \n",
       "3                 1.0            0.5            1.0           0.5   \n",
       "4                 1.0            0.5            1.0           0.5   \n",
       "..                ...            ...            ...           ...   \n",
       "796               2.0            0.5            1.0           2.0   \n",
       "797               0.5            0.5            2.0           4.0   \n",
       "798               0.5            4.0            2.0           0.5   \n",
       "799               1.0            1.0            0.5           1.0   \n",
       "800               1.0            0.5            1.0           2.0   \n",
       "\n",
       "     against_flying  against_ghost  ...  percentage_male  pokedex_number  \\\n",
       "0               2.0            1.0  ...             88.1               1   \n",
       "1               2.0            1.0  ...             88.1               2   \n",
       "2               2.0            1.0  ...             88.1               3   \n",
       "3               1.0            1.0  ...             88.1               4   \n",
       "4               1.0            1.0  ...             88.1               5   \n",
       "..              ...            ...  ...              ...             ...   \n",
       "796             0.5            1.0  ...              NaN             797   \n",
       "797             1.0            1.0  ...              NaN             798   \n",
       "798             1.0            0.5  ...              NaN             799   \n",
       "799             1.0            2.0  ...              NaN             800   \n",
       "800             0.5            1.0  ...              NaN             801   \n",
       "\n",
       "     sp_attack  sp_defense  speed    type1   type2  weight_kg  generation  \\\n",
       "0           65          65     45    grass  poison        6.9           1   \n",
       "1           80          80     60    grass  poison       13.0           1   \n",
       "2          122         120     80    grass  poison      100.0           1   \n",
       "3           60          50     65     fire     NaN        8.5           1   \n",
       "4           80          65     80     fire     NaN       19.0           1   \n",
       "..         ...         ...    ...      ...     ...        ...         ...   \n",
       "796        107         101     61    steel  flying      999.9           7   \n",
       "797         59          31    109    grass   steel        0.1           7   \n",
       "798         97          53     43     dark  dragon      888.0           7   \n",
       "799        127          89     79  psychic     NaN      230.0           7   \n",
       "800        130         115     65    steel   fairy       80.5           7   \n",
       "\n",
       "     is_legendary  \n",
       "0               0  \n",
       "1               0  \n",
       "2               0  \n",
       "3               0  \n",
       "4               0  \n",
       "..            ...  \n",
       "796             1  \n",
       "797             1  \n",
       "798             1  \n",
       "799             1  \n",
       "800             1  \n",
       "\n",
       "[801 rows x 41 columns]"
      ],
      "text/html": [
       "<div>\n",
       "<style scoped>\n",
       "    .dataframe tbody tr th:only-of-type {\n",
       "        vertical-align: middle;\n",
       "    }\n",
       "\n",
       "    .dataframe tbody tr th {\n",
       "        vertical-align: top;\n",
       "    }\n",
       "\n",
       "    .dataframe thead th {\n",
       "        text-align: right;\n",
       "    }\n",
       "</style>\n",
       "<table border=\"1\" class=\"dataframe\">\n",
       "  <thead>\n",
       "    <tr style=\"text-align: right;\">\n",
       "      <th></th>\n",
       "      <th>abilities</th>\n",
       "      <th>against_bug</th>\n",
       "      <th>against_dark</th>\n",
       "      <th>against_dragon</th>\n",
       "      <th>against_electric</th>\n",
       "      <th>against_fairy</th>\n",
       "      <th>against_fight</th>\n",
       "      <th>against_fire</th>\n",
       "      <th>against_flying</th>\n",
       "      <th>against_ghost</th>\n",
       "      <th>...</th>\n",
       "      <th>percentage_male</th>\n",
       "      <th>pokedex_number</th>\n",
       "      <th>sp_attack</th>\n",
       "      <th>sp_defense</th>\n",
       "      <th>speed</th>\n",
       "      <th>type1</th>\n",
       "      <th>type2</th>\n",
       "      <th>weight_kg</th>\n",
       "      <th>generation</th>\n",
       "      <th>is_legendary</th>\n",
       "    </tr>\n",
       "  </thead>\n",
       "  <tbody>\n",
       "    <tr>\n",
       "      <th>0</th>\n",
       "      <td>['Overgrow', 'Chlorophyll']</td>\n",
       "      <td>1.00</td>\n",
       "      <td>1.0</td>\n",
       "      <td>1.0</td>\n",
       "      <td>0.5</td>\n",
       "      <td>0.5</td>\n",
       "      <td>0.5</td>\n",
       "      <td>2.0</td>\n",
       "      <td>2.0</td>\n",
       "      <td>1.0</td>\n",
       "      <td>...</td>\n",
       "      <td>88.1</td>\n",
       "      <td>1</td>\n",
       "      <td>65</td>\n",
       "      <td>65</td>\n",
       "      <td>45</td>\n",
       "      <td>grass</td>\n",
       "      <td>poison</td>\n",
       "      <td>6.9</td>\n",
       "      <td>1</td>\n",
       "      <td>0</td>\n",
       "    </tr>\n",
       "    <tr>\n",
       "      <th>1</th>\n",
       "      <td>['Overgrow', 'Chlorophyll']</td>\n",
       "      <td>1.00</td>\n",
       "      <td>1.0</td>\n",
       "      <td>1.0</td>\n",
       "      <td>0.5</td>\n",
       "      <td>0.5</td>\n",
       "      <td>0.5</td>\n",
       "      <td>2.0</td>\n",
       "      <td>2.0</td>\n",
       "      <td>1.0</td>\n",
       "      <td>...</td>\n",
       "      <td>88.1</td>\n",
       "      <td>2</td>\n",
       "      <td>80</td>\n",
       "      <td>80</td>\n",
       "      <td>60</td>\n",
       "      <td>grass</td>\n",
       "      <td>poison</td>\n",
       "      <td>13.0</td>\n",
       "      <td>1</td>\n",
       "      <td>0</td>\n",
       "    </tr>\n",
       "    <tr>\n",
       "      <th>2</th>\n",
       "      <td>['Overgrow', 'Chlorophyll']</td>\n",
       "      <td>1.00</td>\n",
       "      <td>1.0</td>\n",
       "      <td>1.0</td>\n",
       "      <td>0.5</td>\n",
       "      <td>0.5</td>\n",
       "      <td>0.5</td>\n",
       "      <td>2.0</td>\n",
       "      <td>2.0</td>\n",
       "      <td>1.0</td>\n",
       "      <td>...</td>\n",
       "      <td>88.1</td>\n",
       "      <td>3</td>\n",
       "      <td>122</td>\n",
       "      <td>120</td>\n",
       "      <td>80</td>\n",
       "      <td>grass</td>\n",
       "      <td>poison</td>\n",
       "      <td>100.0</td>\n",
       "      <td>1</td>\n",
       "      <td>0</td>\n",
       "    </tr>\n",
       "    <tr>\n",
       "      <th>3</th>\n",
       "      <td>['Blaze', 'Solar Power']</td>\n",
       "      <td>0.50</td>\n",
       "      <td>1.0</td>\n",
       "      <td>1.0</td>\n",
       "      <td>1.0</td>\n",
       "      <td>0.5</td>\n",
       "      <td>1.0</td>\n",
       "      <td>0.5</td>\n",
       "      <td>1.0</td>\n",
       "      <td>1.0</td>\n",
       "      <td>...</td>\n",
       "      <td>88.1</td>\n",
       "      <td>4</td>\n",
       "      <td>60</td>\n",
       "      <td>50</td>\n",
       "      <td>65</td>\n",
       "      <td>fire</td>\n",
       "      <td>NaN</td>\n",
       "      <td>8.5</td>\n",
       "      <td>1</td>\n",
       "      <td>0</td>\n",
       "    </tr>\n",
       "    <tr>\n",
       "      <th>4</th>\n",
       "      <td>['Blaze', 'Solar Power']</td>\n",
       "      <td>0.50</td>\n",
       "      <td>1.0</td>\n",
       "      <td>1.0</td>\n",
       "      <td>1.0</td>\n",
       "      <td>0.5</td>\n",
       "      <td>1.0</td>\n",
       "      <td>0.5</td>\n",
       "      <td>1.0</td>\n",
       "      <td>1.0</td>\n",
       "      <td>...</td>\n",
       "      <td>88.1</td>\n",
       "      <td>5</td>\n",
       "      <td>80</td>\n",
       "      <td>65</td>\n",
       "      <td>80</td>\n",
       "      <td>fire</td>\n",
       "      <td>NaN</td>\n",
       "      <td>19.0</td>\n",
       "      <td>1</td>\n",
       "      <td>0</td>\n",
       "    </tr>\n",
       "    <tr>\n",
       "      <th>...</th>\n",
       "      <td>...</td>\n",
       "      <td>...</td>\n",
       "      <td>...</td>\n",
       "      <td>...</td>\n",
       "      <td>...</td>\n",
       "      <td>...</td>\n",
       "      <td>...</td>\n",
       "      <td>...</td>\n",
       "      <td>...</td>\n",
       "      <td>...</td>\n",
       "      <td>...</td>\n",
       "      <td>...</td>\n",
       "      <td>...</td>\n",
       "      <td>...</td>\n",
       "      <td>...</td>\n",
       "      <td>...</td>\n",
       "      <td>...</td>\n",
       "      <td>...</td>\n",
       "      <td>...</td>\n",
       "      <td>...</td>\n",
       "      <td>...</td>\n",
       "    </tr>\n",
       "    <tr>\n",
       "      <th>796</th>\n",
       "      <td>['Beast Boost']</td>\n",
       "      <td>0.25</td>\n",
       "      <td>1.0</td>\n",
       "      <td>0.5</td>\n",
       "      <td>2.0</td>\n",
       "      <td>0.5</td>\n",
       "      <td>1.0</td>\n",
       "      <td>2.0</td>\n",
       "      <td>0.5</td>\n",
       "      <td>1.0</td>\n",
       "      <td>...</td>\n",
       "      <td>NaN</td>\n",
       "      <td>797</td>\n",
       "      <td>107</td>\n",
       "      <td>101</td>\n",
       "      <td>61</td>\n",
       "      <td>steel</td>\n",
       "      <td>flying</td>\n",
       "      <td>999.9</td>\n",
       "      <td>7</td>\n",
       "      <td>1</td>\n",
       "    </tr>\n",
       "    <tr>\n",
       "      <th>797</th>\n",
       "      <td>['Beast Boost']</td>\n",
       "      <td>1.00</td>\n",
       "      <td>1.0</td>\n",
       "      <td>0.5</td>\n",
       "      <td>0.5</td>\n",
       "      <td>0.5</td>\n",
       "      <td>2.0</td>\n",
       "      <td>4.0</td>\n",
       "      <td>1.0</td>\n",
       "      <td>1.0</td>\n",
       "      <td>...</td>\n",
       "      <td>NaN</td>\n",
       "      <td>798</td>\n",
       "      <td>59</td>\n",
       "      <td>31</td>\n",
       "      <td>109</td>\n",
       "      <td>grass</td>\n",
       "      <td>steel</td>\n",
       "      <td>0.1</td>\n",
       "      <td>7</td>\n",
       "      <td>1</td>\n",
       "    </tr>\n",
       "    <tr>\n",
       "      <th>798</th>\n",
       "      <td>['Beast Boost']</td>\n",
       "      <td>2.00</td>\n",
       "      <td>0.5</td>\n",
       "      <td>2.0</td>\n",
       "      <td>0.5</td>\n",
       "      <td>4.0</td>\n",
       "      <td>2.0</td>\n",
       "      <td>0.5</td>\n",
       "      <td>1.0</td>\n",
       "      <td>0.5</td>\n",
       "      <td>...</td>\n",
       "      <td>NaN</td>\n",
       "      <td>799</td>\n",
       "      <td>97</td>\n",
       "      <td>53</td>\n",
       "      <td>43</td>\n",
       "      <td>dark</td>\n",
       "      <td>dragon</td>\n",
       "      <td>888.0</td>\n",
       "      <td>7</td>\n",
       "      <td>1</td>\n",
       "    </tr>\n",
       "    <tr>\n",
       "      <th>799</th>\n",
       "      <td>['Prism Armor']</td>\n",
       "      <td>2.00</td>\n",
       "      <td>2.0</td>\n",
       "      <td>1.0</td>\n",
       "      <td>1.0</td>\n",
       "      <td>1.0</td>\n",
       "      <td>0.5</td>\n",
       "      <td>1.0</td>\n",
       "      <td>1.0</td>\n",
       "      <td>2.0</td>\n",
       "      <td>...</td>\n",
       "      <td>NaN</td>\n",
       "      <td>800</td>\n",
       "      <td>127</td>\n",
       "      <td>89</td>\n",
       "      <td>79</td>\n",
       "      <td>psychic</td>\n",
       "      <td>NaN</td>\n",
       "      <td>230.0</td>\n",
       "      <td>7</td>\n",
       "      <td>1</td>\n",
       "    </tr>\n",
       "    <tr>\n",
       "      <th>800</th>\n",
       "      <td>['Soul-Heart']</td>\n",
       "      <td>0.25</td>\n",
       "      <td>0.5</td>\n",
       "      <td>0.0</td>\n",
       "      <td>1.0</td>\n",
       "      <td>0.5</td>\n",
       "      <td>1.0</td>\n",
       "      <td>2.0</td>\n",
       "      <td>0.5</td>\n",
       "      <td>1.0</td>\n",
       "      <td>...</td>\n",
       "      <td>NaN</td>\n",
       "      <td>801</td>\n",
       "      <td>130</td>\n",
       "      <td>115</td>\n",
       "      <td>65</td>\n",
       "      <td>steel</td>\n",
       "      <td>fairy</td>\n",
       "      <td>80.5</td>\n",
       "      <td>7</td>\n",
       "      <td>1</td>\n",
       "    </tr>\n",
       "  </tbody>\n",
       "</table>\n",
       "<p>801 rows × 41 columns</p>\n",
       "</div>"
      ]
     },
     "execution_count": 10,
     "metadata": {},
     "output_type": "execute_result"
    }
   ],
   "execution_count": 10
  },
  {
   "metadata": {
    "ExecuteTime": {
     "end_time": "2024-11-11T01:37:52.121568Z",
     "start_time": "2024-11-11T01:37:52.102899Z"
    }
   },
   "cell_type": "code",
   "source": "#sns.pairplot(pokedex, hue='isLegendary', palette=\"deep\")",
   "id": "14e0f8533c1cb99a",
   "outputs": [],
   "execution_count": 11
  },
  {
   "metadata": {
    "ExecuteTime": {
     "end_time": "2024-11-11T01:38:21.600007Z",
     "start_time": "2024-11-11T01:38:21.578184Z"
    }
   },
   "cell_type": "code",
   "source": [
    "lista = list(zip(pokedex.against_bug, pokedex.against_dark, pokedex.against_dragon, pokedex.against_electric, pokedex.against_fairy, \n",
    "                 pokedex.against_fight, pokedex.against_fire, pokedex.against_flying, pokedex.against_ghost, pokedex.against_grass, \n",
    "                 pokedex.against_ground, pokedex.against_ice, pokedex.against_normal, pokedex.against_poison, pokedex.against_psychic, \n",
    "                 pokedex.against_rock, pokedex.against_steel, pokedex.against_water))\n",
    "\n",
    "VeD = [list(item) for item in lista]"
   ],
   "id": "19b22d767df4abfd",
   "outputs": [],
   "execution_count": 12
  },
  {
   "metadata": {
    "ExecuteTime": {
     "end_time": "2024-11-11T01:38:46.015671Z",
     "start_time": "2024-11-11T01:38:45.989098Z"
    }
   },
   "cell_type": "code",
   "source": [
    "tipo1 = pokedex.type1\n",
    "encoder = LabelEncoder()\n",
    "tipo1 = encoder.fit_transform(tipo1)"
   ],
   "id": "95b873096178b95c",
   "outputs": [],
   "execution_count": 13
  },
  {
   "metadata": {
    "ExecuteTime": {
     "end_time": "2024-11-11T01:38:47.641571Z",
     "start_time": "2024-11-11T01:38:47.588164Z"
    }
   },
   "cell_type": "code",
   "source": [
    "padronizado = StandardScaler()\n",
    "entrada_padronizada = padronizado.fit_transform(VeD)\n",
    "\n",
    "pca = PCA(n_components=2)\n",
    "duas_dimensoes = pca.fit_transform(VeD)\n",
    "duas_dimensoes"
   ],
   "id": "2db9208989986bc",
   "outputs": [
    {
     "data": {
      "text/plain": [
       "array([[-1.45577192, -0.35427967],\n",
       "       [-1.45577192, -0.35427967],\n",
       "       [-1.45577192, -0.35427967],\n",
       "       ...,\n",
       "       [-0.26567667, -2.17444328],\n",
       "       [-0.10206668, -0.07391654],\n",
       "       [ 0.96713856,  0.39104124]])"
      ]
     },
     "execution_count": 14,
     "metadata": {},
     "output_type": "execute_result"
    }
   ],
   "execution_count": 14
  },
  {
   "metadata": {
    "ExecuteTime": {
     "end_time": "2024-11-11T01:56:48.527814Z",
     "start_time": "2024-11-11T01:56:48.514333Z"
    }
   },
   "cell_type": "code",
   "source": "pca.components_",
   "id": "17de5ac8b3e90f57",
   "outputs": [
    {
     "data": {
      "text/plain": [
       "array([[-8.79363040e-02, -4.25727489e-03, -2.72237029e-02,\n",
       "        -1.30815419e-02, -5.58882345e-02,  3.05303342e-01,\n",
       "        -3.16789785e-01, -3.51692992e-01, -2.15385079e-02,\n",
       "         4.09919807e-01,  4.56067503e-01, -3.33362021e-01,\n",
       "        -6.35087627e-02, -2.48904308e-01, -5.03267742e-02,\n",
       "        -2.44137580e-01, -1.77989519e-02,  2.34294791e-01],\n",
       "       [-3.73055321e-01,  8.76150354e-02, -5.93702234e-02,\n",
       "         4.98695436e-01, -2.59127499e-01, -3.28990043e-01,\n",
       "        -1.66590193e-01, -1.02985022e-01,  1.05618436e-01,\n",
       "        -1.38350480e-01, -8.28299207e-03, -3.31458548e-01,\n",
       "        -2.04030260e-02, -1.24046643e-01,  1.04486357e-01,\n",
       "         4.42117977e-01, -1.57392925e-01, -2.80712691e-04]])"
      ]
     },
     "execution_count": 20,
     "metadata": {},
     "output_type": "execute_result"
    }
   ],
   "execution_count": 20
  },
  {
   "metadata": {
    "ExecuteTime": {
     "end_time": "2024-11-11T02:03:21.899177Z",
     "start_time": "2024-11-11T02:03:21.891862Z"
    }
   },
   "cell_type": "code",
   "source": [
    "colunas_escolhidas = np.argsort(np.abs(pca.components_), axis=1)[:, -2:]\n",
    "colunas_escolhidas_nomes = np.array(pokedex.columns)[colunas_escolhidas]\n",
    "print(\"Colunas escolhidas pelo PCA (nomes):\", colunas_escolhidas_nomes)"
   ],
   "id": "78f8d9c700e78ac3",
   "outputs": [
    {
     "name": "stdout",
     "output_type": "stream",
     "text": [
      "Colunas escolhidas pelo PCA (nomes): [['against_ghost' 'against_grass']\n",
      " ['against_psychic' 'against_dragon']]\n"
     ]
    }
   ],
   "execution_count": 24
  },
  {
   "metadata": {
    "ExecuteTime": {
     "end_time": "2024-11-11T01:39:16.442806Z",
     "start_time": "2024-11-11T01:39:15.455928Z"
    }
   },
   "cell_type": "code",
   "source": [
    "inertia=[]\n",
    "for i in range(1,50):\n",
    "    kmeans = KMeans(n_clusters=i, n_init='auto')\n",
    "    kmeans.fit(duas_dimensoes)\n",
    "    inertia.append(kmeans.inertia_)\n",
    "\n",
    "plt.plot(list(range(1,50)), inertia)\n",
    "plt.xlabel(\"# klusters\")\n",
    "plt.ylabel(\"inertia\")"
   ],
   "id": "7f5b5679e39ca1a7",
   "outputs": [
    {
     "data": {
      "text/plain": [
       "Text(0, 0.5, 'inertia')"
      ]
     },
     "execution_count": 16,
     "metadata": {},
     "output_type": "execute_result"
    },
    {
     "data": {
      "text/plain": [
       "<Figure size 640x480 with 1 Axes>"
      ],
      "image/png": "[encoded data removed]"
     },
     "metadata": {},
     "output_type": "display_data"
    }
   ],
   "execution_count": 16
  },
  {
   "metadata": {
    "ExecuteTime": {
     "end_time": "2024-11-11T01:59:43.840976Z",
     "start_time": "2024-11-11T01:59:43.365579Z"
    }
   },
   "cell_type": "code",
   "source": [
    "kmeans = KMeans(n_clusters=15, n_init='auto')\n",
    "kmeans.fit(duas_dimensoes)\n",
    "solucao = kmeans.predict(duas_dimensoes)\n",
    "\n",
    "plt.subplot(1,2,1)\n",
    "plt.scatter(duas_dimensoes[:,0], duas_dimensoes[:,1], c=solucao, alpha=0.5, cmap='prism')\n",
    "plt.title(\"kmeans\")\n",
    "\n",
    "plt.subplot(1,2,2)\n",
    "plt.scatter(duas_dimensoes[:,0], duas_dimensoes[:,1], c=tipo1, alpha=0.5, cmap='prism') # arrumar para tipos\n",
    "plt.title(\"Dataset real\")"
   ],
   "id": "d5278a917a9d9141",
   "outputs": [
    {
     "data": {
      "text/plain": [
       "Text(0.5, 1.0, 'Dataset real')"
      ]
     },
     "execution_count": 22,
     "metadata": {},
     "output_type": "execute_result"
    },
    {
     "data": {
      "text/plain": [
       "<Figure size 640x480 with 2 Axes>"
      ],
      "image/png": "[encoded data removed]"
     },
     "metadata": {},
     "output_type": "display_data"
    }
   ],
   "execution_count": 22
  },
  {
   "metadata": {},
   "cell_type": "code",
   "outputs": [],
   "execution_count": null,
   "source": "",
   "id": "5a5c90c78f9e30ef"
  }
 ],
 "metadata": {
  "kernelspec": {
   "display_name": "Python 3",
   "language": "python",
   "name": "python3"
  },
  "language_info": {
   "codemirror_mode": {
    "name": "ipython",
    "version": 2
   },
   "file_extension": ".py",
   "mimetype": "text/x-python",
   "name": "python",
   "nbconvert_exporter": "python",
   "pygments_lexer": "ipython2",
   "version": "2.7.6"
  }
 },
 "nbformat": 4,
 "nbformat_minor": 5
}
